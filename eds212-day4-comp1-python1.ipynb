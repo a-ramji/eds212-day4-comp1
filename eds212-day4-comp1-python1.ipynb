{
 "cells": [
  {
   "cell_type": "code",
   "execution_count": null,
   "id": "bfc3ea05",
   "metadata": {},
   "outputs": [],
   "source": [
    "# This is a header"
   ]
  },
  {
   "cell_type": "code",
   "execution_count": 1,
   "id": "02092bb4",
   "metadata": {},
   "outputs": [],
   "source": [
    "import numpy as np"
   ]
  },
  {
   "cell_type": "code",
   "execution_count": 2,
   "id": "d124b764",
   "metadata": {},
   "outputs": [],
   "source": [
    "## making a list\n",
    "\n",
    "list_1 = [1, 2, 3]"
   ]
  },
  {
   "cell_type": "code",
   "execution_count": 3,
   "id": "cab2bd5a",
   "metadata": {},
   "outputs": [],
   "source": [
    "# making the list into a vector\n",
    "vec_1 = np.array(list_1)"
   ]
  },
  {
   "cell_type": "code",
   "execution_count": 4,
   "id": "ad3724ee",
   "metadata": {},
   "outputs": [
    {
     "data": {
      "text/plain": [
       "array([1, 2, 3])"
      ]
     },
     "execution_count": 4,
     "metadata": {},
     "output_type": "execute_result"
    }
   ],
   "source": [
    "vec_1"
   ]
  },
  {
   "cell_type": "code",
   "execution_count": 5,
   "id": "0d0207d0",
   "metadata": {},
   "outputs": [
    {
     "data": {
      "text/plain": [
       "array([  10,  100, 1000])"
      ]
     },
     "execution_count": 5,
     "metadata": {},
     "output_type": "execute_result"
    }
   ],
   "source": [
    "# making a second list, then array, for math stuff!\n",
    "\n",
    "list_2 = [10, 100, 1000]\n",
    "\n",
    "vec_2 = np.array(list_2)\n",
    "\n",
    "vec_2"
   ]
  }
 ],
 "metadata": {
  "kernelspec": {
   "display_name": "Python 3",
   "language": "python",
   "name": "python3"
  },
  "language_info": {
   "codemirror_mode": {
    "name": "ipython",
    "version": 3
   },
   "file_extension": ".py",
   "mimetype": "text/x-python",
   "name": "python",
   "nbconvert_exporter": "python",
   "pygments_lexer": "ipython3",
   "version": "3.8.8"
  }
 },
 "nbformat": 4,
 "nbformat_minor": 5
}
