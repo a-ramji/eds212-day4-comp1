{
 "cells": [
  {
   "cell_type": "markdown",
   "id": "217f8bb6",
   "metadata": {},
   "source": [
    "# this is a level 1 header"
   ]
  },
  {
   "cell_type": "code",
   "execution_count": 1,
   "id": "1cd016e9",
   "metadata": {},
   "outputs": [],
   "source": [
    "# This is a comment"
   ]
  },
  {
   "cell_type": "code",
   "execution_count": 2,
   "id": "9c663712",
   "metadata": {},
   "outputs": [],
   "source": [
    "import numpy as np"
   ]
  },
  {
   "cell_type": "code",
   "execution_count": 3,
   "id": "d90306c6",
   "metadata": {},
   "outputs": [],
   "source": [
    "## making a list\n",
    "\n",
    "list_1 = [1, 2, 3]"
   ]
  },
  {
   "cell_type": "code",
   "execution_count": 4,
   "id": "b0ffa26e",
   "metadata": {},
   "outputs": [],
   "source": [
    "# making the list into a vector\n",
    "vec_1 = np.array(list_1)"
   ]
  },
  {
   "cell_type": "code",
   "execution_count": 5,
   "id": "4da59f70",
   "metadata": {},
   "outputs": [
    {
     "data": {
      "text/plain": [
       "array([1, 2, 3])"
      ]
     },
     "execution_count": 5,
     "metadata": {},
     "output_type": "execute_result"
    }
   ],
   "source": [
    "vec_1"
   ]
  },
  {
   "cell_type": "code",
   "execution_count": 6,
   "id": "2d3d2c0b",
   "metadata": {},
   "outputs": [
    {
     "data": {
      "text/plain": [
       "array([  10,  100, 1000])"
      ]
     },
     "execution_count": 6,
     "metadata": {},
     "output_type": "execute_result"
    }
   ],
   "source": [
    "# making a second list, then vector using np.array, for math stuff!\n",
    "\n",
    "list_2 = [10, 100, 1000]\n",
    "\n",
    "vec_2 = np.array(list_2)\n",
    "\n",
    "vec_2"
   ]
  },
  {
   "cell_type": "code",
   "execution_count": 7,
   "id": "bb4500e9",
   "metadata": {},
   "outputs": [
    {
     "data": {
      "text/plain": [
       "array([  -9,  -98, -997])"
      ]
     },
     "execution_count": 7,
     "metadata": {},
     "output_type": "execute_result"
    }
   ],
   "source": [
    "# baby math w vectors\n",
    "\n",
    "# addition\n",
    "vec_1 + vec_2\n",
    "\n",
    "# subtraction\n",
    "vec_1 - vec_2"
   ]
  },
  {
   "cell_type": "code",
   "execution_count": 8,
   "id": "a8402721",
   "metadata": {
    "scrolled": true
   },
   "outputs": [
    {
     "data": {
      "text/plain": [
       "array([  50,  500, 5000])"
      ]
     },
     "execution_count": 8,
     "metadata": {},
     "output_type": "execute_result"
    }
   ],
   "source": [
    "# scalar multiplier\n",
    "\n",
    "5 * vec_2"
   ]
  },
  {
   "cell_type": "markdown",
   "id": "40eada94",
   "metadata": {},
   "source": [
    "notes from class instructions: \"BEWARE: If you do these operations with the original lists, something very different will happen, since the + with lists appends the second list elements to the first list.\"\n"
   ]
  },
  {
   "cell_type": "code",
   "execution_count": 9,
   "id": "2545dea4",
   "metadata": {},
   "outputs": [
    {
     "data": {
      "text/plain": [
       "[1, 2, 3, 10, 100, 1000]"
      ]
     },
     "execution_count": 9,
     "metadata": {},
     "output_type": "execute_result"
    }
   ],
   "source": [
    "# example of trying addition with lists, not vectors\n",
    "\n",
    "list_1 + list_2"
   ]
  },
  {
   "cell_type": "markdown",
   "id": "8118d13b",
   "metadata": {},
   "source": [
    "for dot product, use np.dot()"
   ]
  },
  {
   "cell_type": "code",
   "execution_count": 10,
   "id": "a50efa53",
   "metadata": {},
   "outputs": [],
   "source": [
    "# this is a change"
   ]
  },
  {
   "cell_type": "code",
   "execution_count": 11,
   "id": "f4b0bcb0",
   "metadata": {},
   "outputs": [
    {
     "name": "stdout",
     "output_type": "stream",
     "text": [
      "[[1 9]\n",
      " [6 0]]\n"
     ]
    }
   ],
   "source": [
    "# Make one 2 x 2 matrix: \n",
    "matrix_1 = np.matrix([[1, 9], \n",
    "               [6, 0]])\n",
    "print(matrix_1)"
   ]
  },
  {
   "cell_type": "code",
   "execution_count": 12,
   "id": "6d809567",
   "metadata": {},
   "outputs": [
    {
     "name": "stdout",
     "output_type": "stream",
     "text": [
      "[[ 0  2]\n",
      " [ 3 10]]\n"
     ]
    }
   ],
   "source": [
    "matrix_2 = np.matrix([[0, 2],\n",
    "                      [3, 10]])\n",
    "                      \n",
    "print(matrix_2)"
   ]
  },
  {
   "cell_type": "code",
   "execution_count": null,
   "id": "e232f33b",
   "metadata": {},
   "outputs": [],
   "source": []
  }
 ],
 "metadata": {
  "kernelspec": {
   "display_name": "Python 3",
   "language": "python",
   "name": "python3"
  },
  "language_info": {
   "codemirror_mode": {
    "name": "ipython",
    "version": 3
   },
   "file_extension": ".py",
   "mimetype": "text/x-python",
   "name": "python",
   "nbconvert_exporter": "python",
   "pygments_lexer": "ipython3",
   "version": "3.8.8"
  }
 },
 "nbformat": 4,
 "nbformat_minor": 5
}
