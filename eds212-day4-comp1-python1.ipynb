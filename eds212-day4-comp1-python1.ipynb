{
 "cells": [
  {
   "cell_type": "markdown",
   "id": "1406f35f",
   "metadata": {},
   "source": [
    "# this is a level 1 header"
   ]
  },
  {
   "cell_type": "code",
   "execution_count": 11,
   "id": "28558e66",
   "metadata": {},
   "outputs": [],
   "source": [
    "# This is a comment"
   ]
  },
  {
   "cell_type": "code",
   "execution_count": 1,
   "id": "0f3f1470",
   "metadata": {},
   "outputs": [],
   "source": [
    "import numpy as np"
   ]
  },
  {
   "cell_type": "code",
   "execution_count": 2,
   "id": "75f58d4c",
   "metadata": {},
   "outputs": [],
   "source": [
    "## making a list\n",
    "\n",
    "list_1 = [1, 2, 3]"
   ]
  },
  {
   "cell_type": "code",
   "execution_count": 3,
   "id": "693d460d",
   "metadata": {},
   "outputs": [],
   "source": [
    "# making the list into a vector\n",
    "vec_1 = np.array(list_1)"
   ]
  },
  {
   "cell_type": "code",
   "execution_count": 4,
   "id": "60b95deb",
   "metadata": {},
   "outputs": [
    {
     "data": {
      "text/plain": [
       "array([1, 2, 3])"
      ]
     },
     "execution_count": 4,
     "metadata": {},
     "output_type": "execute_result"
    }
   ],
   "source": [
    "vec_1"
   ]
  },
  {
   "cell_type": "code",
   "execution_count": 5,
   "id": "27613d89",
   "metadata": {},
   "outputs": [
    {
     "data": {
      "text/plain": [
       "array([  10,  100, 1000])"
      ]
     },
     "execution_count": 5,
     "metadata": {},
     "output_type": "execute_result"
    }
   ],
   "source": [
    "# making a second list, then vector using np.array, for math stuff!\n",
    "\n",
    "list_2 = [10, 100, 1000]\n",
    "\n",
    "vec_2 = np.array(list_2)\n",
    "\n",
    "vec_2"
   ]
  },
  {
   "cell_type": "code",
   "execution_count": 7,
   "id": "8571fccf",
   "metadata": {},
   "outputs": [
    {
     "data": {
      "text/plain": [
       "array([  -9,  -98, -997])"
      ]
     },
     "execution_count": 7,
     "metadata": {},
     "output_type": "execute_result"
    }
   ],
   "source": [
    "# baby math w vectors\n",
    "\n",
    "# addition\n",
    "vec_1 + vec_2\n",
    "\n",
    "# subtraction\n",
    "vec_1 - vec_2"
   ]
  },
  {
   "cell_type": "code",
   "execution_count": 8,
   "id": "6de0aee0",
   "metadata": {},
   "outputs": [
    {
     "data": {
      "text/plain": [
       "array([  50,  500, 5000])"
      ]
     },
     "execution_count": 8,
     "metadata": {},
     "output_type": "execute_result"
    }
   ],
   "source": [
    "# scalar multiplier\n",
    "\n",
    "5 * vec_2"
   ]
  },
  {
   "cell_type": "markdown",
   "id": "a6645af3",
   "metadata": {},
   "source": [
    "notes from class instructions: \"BEWARE: If you do these operations with the original lists, something very different will happen, since the + with lists appends the second list elements to the first list.\"\n"
   ]
  },
  {
   "cell_type": "code",
   "execution_count": 12,
   "id": "54d8600f",
   "metadata": {},
   "outputs": [
    {
     "data": {
      "text/plain": [
       "[1, 2, 3, 10, 100, 1000]"
      ]
     },
     "execution_count": 12,
     "metadata": {},
     "output_type": "execute_result"
    }
   ],
   "source": [
    "# example of trying addition with lists, not vectors\n",
    "\n",
    "list_1 + list_2"
   ]
  },
  {
   "cell_type": "markdown",
   "id": "a9066c22",
   "metadata": {},
   "source": [
    "for dot product, use np.dot()"
   ]
  }
 ],
 "metadata": {
  "kernelspec": {
   "display_name": "Python 3",
   "language": "python",
   "name": "python3"
  },
  "language_info": {
   "codemirror_mode": {
    "name": "ipython",
    "version": 3
   },
   "file_extension": ".py",
   "mimetype": "text/x-python",
   "name": "python",
   "nbconvert_exporter": "python",
   "pygments_lexer": "ipython3",
   "version": "3.8.8"
  }
 },
 "nbformat": 4,
 "nbformat_minor": 5
}
