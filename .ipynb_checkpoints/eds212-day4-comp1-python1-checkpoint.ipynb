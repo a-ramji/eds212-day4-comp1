{
 "cells": [
  {
   "cell_type": "markdown",
   "id": "8aa97fa9",
   "metadata": {},
   "source": [
    "# this is a level 1 header"
   ]
  },
  {
   "cell_type": "code",
   "execution_count": 1,
   "id": "020b8253",
   "metadata": {},
   "outputs": [],
   "source": [
    "# This is a comment"
   ]
  },
  {
   "cell_type": "code",
   "execution_count": 2,
   "id": "ecf38cec",
   "metadata": {},
   "outputs": [],
   "source": [
    "import numpy as np"
   ]
  },
  {
   "cell_type": "code",
   "execution_count": 3,
   "id": "3506f37f",
   "metadata": {},
   "outputs": [],
   "source": [
    "## making a list\n",
    "\n",
    "list_1 = [1, 2, 3]"
   ]
  },
  {
   "cell_type": "code",
   "execution_count": 4,
   "id": "b0695887",
   "metadata": {},
   "outputs": [],
   "source": [
    "# making the list into a vector\n",
    "vec_1 = np.array(list_1)"
   ]
  },
  {
   "cell_type": "code",
   "execution_count": 5,
   "id": "3c26888e",
   "metadata": {},
   "outputs": [
    {
     "data": {
      "text/plain": [
       "array([1, 2, 3])"
      ]
     },
     "execution_count": 5,
     "metadata": {},
     "output_type": "execute_result"
    }
   ],
   "source": [
    "vec_1"
   ]
  },
  {
   "cell_type": "code",
   "execution_count": 6,
   "id": "8741058b",
   "metadata": {},
   "outputs": [
    {
     "data": {
      "text/plain": [
       "array([  10,  100, 1000])"
      ]
     },
     "execution_count": 6,
     "metadata": {},
     "output_type": "execute_result"
    }
   ],
   "source": [
    "# making a second list, then vector using np.array, for math stuff!\n",
    "\n",
    "list_2 = [10, 100, 1000]\n",
    "\n",
    "vec_2 = np.array(list_2)\n",
    "\n",
    "vec_2"
   ]
  },
  {
   "cell_type": "code",
   "execution_count": 7,
   "id": "f5b1665a",
   "metadata": {},
   "outputs": [
    {
     "data": {
      "text/plain": [
       "array([  -9,  -98, -997])"
      ]
     },
     "execution_count": 7,
     "metadata": {},
     "output_type": "execute_result"
    }
   ],
   "source": [
    "# baby math w vectors\n",
    "\n",
    "# addition\n",
    "vec_1 + vec_2\n",
    "\n",
    "# subtraction\n",
    "vec_1 - vec_2"
   ]
  },
  {
   "cell_type": "code",
   "execution_count": 8,
   "id": "348d7a69",
   "metadata": {
    "scrolled": true
   },
   "outputs": [
    {
     "data": {
      "text/plain": [
       "array([  50,  500, 5000])"
      ]
     },
     "execution_count": 8,
     "metadata": {},
     "output_type": "execute_result"
    }
   ],
   "source": [
    "# scalar multiplier\n",
    "\n",
    "5 * vec_2"
   ]
  },
  {
   "cell_type": "markdown",
   "id": "050dcdae",
   "metadata": {},
   "source": [
    "notes from class instructions: \"BEWARE: If you do these operations with the original lists, something very different will happen, since the + with lists appends the second list elements to the first list.\"\n"
   ]
  },
  {
   "cell_type": "code",
   "execution_count": 9,
   "id": "787451cd",
   "metadata": {},
   "outputs": [
    {
     "data": {
      "text/plain": [
       "[1, 2, 3, 10, 100, 1000]"
      ]
     },
     "execution_count": 9,
     "metadata": {},
     "output_type": "execute_result"
    }
   ],
   "source": [
    "# example of trying addition with lists, not vectors\n",
    "\n",
    "list_1 + list_2"
   ]
  },
  {
   "cell_type": "markdown",
   "id": "7166ad70",
   "metadata": {},
   "source": [
    "for dot product, use np.dot()"
   ]
  },
  {
   "cell_type": "code",
   "execution_count": 10,
   "id": "e0bc6638",
   "metadata": {},
   "outputs": [],
   "source": [
    "# this is a change"
   ]
  }
 ],
 "metadata": {
  "kernelspec": {
   "display_name": "Python 3",
   "language": "python",
   "name": "python3"
  },
  "language_info": {
   "codemirror_mode": {
    "name": "ipython",
    "version": 3
   },
   "file_extension": ".py",
   "mimetype": "text/x-python",
   "name": "python",
   "nbconvert_exporter": "python",
   "pygments_lexer": "ipython3",
   "version": "3.8.8"
  }
 },
 "nbformat": 4,
 "nbformat_minor": 5
}
